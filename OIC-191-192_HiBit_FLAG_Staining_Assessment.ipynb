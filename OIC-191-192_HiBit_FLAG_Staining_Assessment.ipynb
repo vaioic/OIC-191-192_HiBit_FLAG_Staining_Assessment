{
 "cells": [
  {
   "cell_type": "code",
   "execution_count": 1,
   "id": "053ba0f6",
   "metadata": {},
   "outputs": [],
   "source": [
    "import numpy as np\n",
    "import skimage as sk\n",
    "from aicspylibczi import CziFile\n",
    "from glob import glob\n",
    "import os\n",
    "import napari"
   ]
  },
  {
   "cell_type": "code",
   "execution_count": 2,
   "id": "59e69b17",
   "metadata": {},
   "outputs": [],
   "source": [
    "OIC_191_files = sorted(glob('OIC-191_Images/*.czi'))\n",
    "OIC_192_files = sorted(glob('OIC-192_Images/*.czi'))\n",
    "\n",
    "OIC_191_files_czi = list(map(CziFile,OIC_191_files))\n",
    "OIC_192_files_czi = list(map(CziFile,OIC_192_files))"
   ]
  },
  {
   "cell_type": "code",
   "execution_count": null,
   "id": "e9743bb0",
   "metadata": {},
   "outputs": [],
   "source": [
    "def read_and_prep_images(czifile):\n",
    "    scenes = [czifile.read_image(S=s)[0] for s in range(czifile.size[2])]\n",
    "    squeezed = [np.squeeze(i) for i in scenes]\n",
    "    average_projections = [np.round(np.mean(img,axis=1)).astype('uint16') for img in squeezed] #channel axis needs to be placed last for scikit-image\n",
    "    \n",
    "    return scenes, reorder, gauss_nuc, nuclei_channel "
   ]
  },
  {
   "cell_type": "code",
   "execution_count": 18,
   "id": "9e1f4f7b",
   "metadata": {},
   "outputs": [],
   "source": [
    "test_img = OIC_191_files_czi[-1]"
   ]
  },
  {
   "cell_type": "code",
   "execution_count": 4,
   "id": "df0bc61e",
   "metadata": {},
   "outputs": [],
   "source": [
    "test_scenes = [test_img.read_image(S=s)[0] for s in range(test_img.size[2])]"
   ]
  },
  {
   "cell_type": "code",
   "execution_count": 24,
   "id": "4fd5416f",
   "metadata": {},
   "outputs": [],
   "source": [
    "test_scenes = [np.squeeze(scene) for scene in test_scenes]"
   ]
  },
  {
   "cell_type": "code",
   "execution_count": 8,
   "id": "8235952a",
   "metadata": {},
   "outputs": [
    {
     "data": {
      "text/plain": [
       "(3, 26, 1012, 1012)"
      ]
     },
     "execution_count": 8,
     "metadata": {},
     "output_type": "execute_result"
    }
   ],
   "source": [
    "test_scene.shape"
   ]
  },
  {
   "cell_type": "code",
   "execution_count": 45,
   "id": "bd1c9f08",
   "metadata": {},
   "outputs": [],
   "source": [
    "average_project = [np.round(np.mean(scene, axis=1)).astype('uint16') for scene in test_scenes]"
   ]
  },
  {
   "cell_type": "code",
   "execution_count": 48,
   "id": "84d0d2bf",
   "metadata": {},
   "outputs": [],
   "source": [
    "padded_arrays = [np.pad(scene,pad_width=5,constant_values=(0,0)) for scene in average_project]"
   ]
  },
  {
   "cell_type": "code",
   "execution_count": 36,
   "id": "31aec140",
   "metadata": {},
   "outputs": [],
   "source": [
    "average_project = [np.moveaxis(scene,0,-1) for scene in average_project]"
   ]
  },
  {
   "cell_type": "code",
   "execution_count": 37,
   "id": "a68ced05",
   "metadata": {},
   "outputs": [],
   "source": [
    "stack = np.stack(average_project)"
   ]
  },
  {
   "cell_type": "code",
   "execution_count": 52,
   "id": "843bacb1",
   "metadata": {},
   "outputs": [],
   "source": [
    "montage_np = np.block(average_project)"
   ]
  },
  {
   "cell_type": "code",
   "execution_count": 53,
   "id": "79035164",
   "metadata": {},
   "outputs": [
    {
     "data": {
      "text/plain": [
       "(3, 1012, 3036)"
      ]
     },
     "execution_count": 53,
     "metadata": {},
     "output_type": "execute_result"
    }
   ],
   "source": [
    "montage_np.shape"
   ]
  },
  {
   "cell_type": "code",
   "execution_count": 54,
   "id": "aae4cca0",
   "metadata": {},
   "outputs": [
    {
     "data": {
      "text/plain": [
       "Viewer(camera=Camera(center=(0.0, np.float64(505.5), np.float64(1517.5)), zoom=np.float64(0.18774703557312253), angles=(0.0, 0.0, 90.0), perspective=0.0, mouse_pan=True, mouse_zoom=True, orientation=(<DepthAxisOrientation.TOWARDS: 'towards'>, <VerticalAxisOrientation.DOWN: 'down'>, <HorizontalAxisOrientation.RIGHT: 'right'>)), cursor=Cursor(position=(np.float64(1.0), 1.0, 0.0), scaled=True, style=<CursorStyle.STANDARD: 'standard'>, size=1.0), dims=Dims(ndim=3, ndisplay=2, order=(0, 1, 2), axis_labels=('0', '1', '2'), rollable=(True, True, True), range=(RangeTuple(start=np.float64(0.0), stop=np.float64(2.0), step=np.float64(1.0)), RangeTuple(start=np.float64(0.0), stop=np.float64(1011.0), step=np.float64(1.0)), RangeTuple(start=np.float64(0.0), stop=np.float64(3035.0), step=np.float64(1.0))), margin_left=(0.0, 0.0, 0.0), margin_right=(0.0, 0.0, 0.0), point=(np.float64(1.0), np.float64(505.0), np.float64(1517.0)), last_used=0), grid=GridCanvas(stride=1, shape=(-1, -1), enabled=False, spacing=0.0), layers=[<Image layer 'montage_np' at 0x15219637c40>], help='use <2> for transform', status='Ready', tooltip=Tooltip(visible=False, text=''), theme='dark', title='napari', mouse_over_canvas=False, mouse_move_callbacks=[], mouse_drag_callbacks=[], mouse_double_click_callbacks=[<function double_click_to_zoom at 0x0000015207D9EDD0>], mouse_wheel_callbacks=[<function dims_scroll at 0x0000015207D9E320>], _persisted_mouse_event={}, _mouse_drag_gen={}, _mouse_wheel_gen={}, _keymap={})"
      ]
     },
     "execution_count": 54,
     "metadata": {},
     "output_type": "execute_result"
    }
   ],
   "source": [
    "napari.view_image(montage_np)"
   ]
  },
  {
   "cell_type": "code",
   "execution_count": 15,
   "id": "ceb14dca",
   "metadata": {},
   "outputs": [
    {
     "name": "stderr",
     "output_type": "stream",
     "text": [
      "WARNING: WARNING: QApplication was not created in the main() thread.\n"
     ]
    }
   ],
   "source": [
    "viewer = napari.view_image(average_project)"
   ]
  },
  {
   "cell_type": "code",
   "execution_count": null,
   "id": "8e6d59fa",
   "metadata": {},
   "outputs": [],
   "source": []
  }
 ],
 "metadata": {
  "kernelspec": {
   "display_name": "Python 3",
   "language": "python",
   "name": "python3"
  },
  "language_info": {
   "codemirror_mode": {
    "name": "ipython",
    "version": 3
   },
   "file_extension": ".py",
   "mimetype": "text/x-python",
   "name": "python",
   "nbconvert_exporter": "python",
   "pygments_lexer": "ipython3",
   "version": "3.10.16"
  }
 },
 "nbformat": 4,
 "nbformat_minor": 5
}
