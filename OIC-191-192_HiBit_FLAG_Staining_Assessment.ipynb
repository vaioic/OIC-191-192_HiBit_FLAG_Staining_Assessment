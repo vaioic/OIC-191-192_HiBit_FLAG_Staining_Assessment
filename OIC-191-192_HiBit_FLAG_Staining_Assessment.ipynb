{
 "cells": [
  {
   "cell_type": "code",
   "execution_count": 1,
   "id": "053ba0f6",
   "metadata": {},
   "outputs": [],
   "source": [
    "import numpy as np\n",
    "import skimage as sk\n",
    "from aicspylibczi import CziFile\n",
    "from glob import glob\n",
    "import os\n",
    "import napari"
   ]
  },
  {
   "cell_type": "code",
   "execution_count": null,
   "id": "59e69b17",
   "metadata": {},
   "outputs": [],
   "source": [
    "OIC_191_files = sorted(glob('OIC-191_Images/*.czi'))\n",
    "OIC_192_files = sorted(glob('OIC-192_Images/*.czi'))\n",
    "\n",
    "OIC_191_files_czi = list(map(CziFile,OIC_191_files))\n",
    "OIC_192_files_czi = list(map(CziFile,OIC_192_files))"
   ]
  },
  {
   "cell_type": "code",
   "execution_count": 4,
   "id": "9bb38c74",
   "metadata": {},
   "outputs": [],
   "source": [
    "new_images_files = sorted(glob('20250905_Images/*.czi'))\n",
    "new_images_czi = list(map(CziFile,new_images_files))"
   ]
  },
  {
   "cell_type": "code",
   "execution_count": 7,
   "id": "926c7f72",
   "metadata": {},
   "outputs": [
    {
     "data": {
      "text/plain": [
       "8"
      ]
     },
     "execution_count": 7,
     "metadata": {},
     "output_type": "execute_result"
    }
   ],
   "source": [
    "len(new_images_files)"
   ]
  },
  {
   "cell_type": "code",
   "execution_count": 5,
   "id": "e9743bb0",
   "metadata": {},
   "outputs": [],
   "source": [
    "def read_and_prep_images(czifile):\n",
    "    num_scenes = czifile.size[2]\n",
    "    scenes = [czifile.read_image(S=s)[0] for s in range(czifile.size[2])]\n",
    "    squeezed = [np.squeeze(i) for i in scenes]\n",
    "    num_channels = squeezed[0].shape[0]\n",
    "    average_projections = [np.round(np.mean(img,axis=1)).astype('uint16') for img in squeezed] #channel axis needs to be placed last for scikit-image\n",
    "    montage = np.block(average_projections)\n",
    "    return num_scenes, num_channels, average_projections, montage "
   ]
  },
  {
   "cell_type": "code",
   "execution_count": 6,
   "id": "367755c8",
   "metadata": {},
   "outputs": [],
   "source": [
    "def save_imgs(save_path,file_name, num_scenes, num_channels, average_projections, montage):\n",
    "    for i in range(num_scenes):\n",
    "        scene = average_projections[i]\n",
    "        sk.io.imsave(os.path.join(save_path,file_name[:-4]+'_AverageProjection_Scene0'+str(i+1)+'.tiff'),scene,check_contrast=False)\n",
    "        for c in range(num_channels):\n",
    "            ch = scene[c,...]\n",
    "            sk.io.imsave(os.path.join(save_path,file_name[:-4]+'_AverageProjection_Scene0'+str(i+1)+'_Channel'+str(c+1)+'.tiff'),ch,check_contrast=False)\n",
    "    sk.io.imsave(os.path.join(save_path,file_name[:-4]+'_AverageProjection_Montage.tiff'),montage,check_contrast=False)\n"
   ]
  },
  {
   "cell_type": "code",
   "execution_count": 8,
   "id": "7205c2b7",
   "metadata": {},
   "outputs": [],
   "source": [
    "save_path = '20250905_Images/Average_Projections_Montages'\n",
    "for j in range(len(new_images_czi)):\n",
    "    file_name = os.path.basename(new_images_files[j])\n",
    "    img = new_images_czi[j]\n",
    "    num_scenes, num_channels, average_projections, montage = read_and_prep_images(img)\n",
    "    save_imgs(save_path,file_name,num_scenes,num_channels,average_projections,montage)"
   ]
  }
 ],
 "metadata": {
  "kernelspec": {
   "display_name": "Python 3",
   "language": "python",
   "name": "python3"
  },
  "language_info": {
   "codemirror_mode": {
    "name": "ipython",
    "version": 3
   },
   "file_extension": ".py",
   "mimetype": "text/x-python",
   "name": "python",
   "nbconvert_exporter": "python",
   "pygments_lexer": "ipython3",
   "version": "3.10.16"
  }
 },
 "nbformat": 4,
 "nbformat_minor": 5
}
